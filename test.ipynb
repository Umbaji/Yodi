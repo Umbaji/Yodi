{
 "cells": [
  {
   "cell_type": "code",
   "execution_count": 4,
   "metadata": {},
   "outputs": [
    {
     "name": "stdout",
     "output_type": "stream",
     "text": [
      "Number of total examples: 7620\n",
      "Example file tensor: tf.Tensor(b'/home/black-eagle/Yodi_all/Yodi-test-page-fr/Yodi/umini_speech/umini_speech_commands/down/USD530.wav', shape=(), dtype=string)\n",
      "Training set size 7600\n",
      "Test set size 20\n",
      "Commands: ['go' 'stop' 'up' 'yes' 'no' 'down' 'right' 'left']\n",
      "Prediction : down\n"
     ]
    }
   ],
   "source": [
    "import tensorflow as tf\n",
    "import os\n",
    "import pathlib \n",
    "import numpy as np\n",
    "import matplotlib.pyplot as plt\n",
    "import seaborn as sns\n",
    "\n",
    "from Yodi import Yodi\n",
    "\n",
    "if __name__ ==\"__main__\":\n",
    "\n",
    "# Load the training set and split for tests\n",
    "\n",
    "    cur_dir = os.getcwd()\n",
    "        \n",
    "    DATASET_PATH = cur_dir + '/umini_speech/umini_speech_commands/'\n",
    "    data_dir = pathlib.Path(DATASET_PATH)\n",
    "\n",
    "    filenames = tf.io.gfile.glob(str(data_dir) + '/*/*')\n",
    "    filenames = tf.random.shuffle(filenames)\n",
    "    num_samples = len(filenames)\n",
    "    print('Number of total examples:', num_samples)\n",
    "    print('Example file tensor:', filenames[0])\n",
    "\n",
    "    # @title\n",
    "    train_files = filenames[:7600]\n",
    "\n",
    "    test_files = filenames[-20:]\n",
    "\n",
    "    print('Training set size', len(train_files))\n",
    "\n",
    "    print('Test set size', len(test_files))\n",
    "\n",
    "    if not data_dir.exists():\n",
    "            print(\"Dowload the test_set folder from the repo: https://github.com/Umbaji/Yodi.git\")\n",
    "            pass\n",
    "    tf_path = cur_dir +\"/umini_speech/test_set/down/USDTD00.wav\"\n",
    "            \n",
    "    yodi_instance = Yodi(tf_path,version = \"1\", local = True,plot_specs = \"True\")\n",
    "    result = yodi_instance.predict_from_path()\n",
    "    print(\"Prediction :\",yodi_instance.commands[result])    \n"
   ]
  }
 ],
 "metadata": {
  "kernelspec": {
   "display_name": "Python 3",
   "language": "python",
   "name": "python3"
  },
  "language_info": {
   "codemirror_mode": {
    "name": "ipython",
    "version": 3
   },
   "file_extension": ".py",
   "mimetype": "text/x-python",
   "name": "python",
   "nbconvert_exporter": "python",
   "pygments_lexer": "ipython3",
   "version": "3.8.10"
  }
 },
 "nbformat": 4,
 "nbformat_minor": 2
}
